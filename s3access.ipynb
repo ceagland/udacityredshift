{
 "cells": [
  {
   "cell_type": "code",
   "execution_count": 13,
   "metadata": {
    "editable": true
   },
   "outputs": [],
   "source": [
    "#!pip install boto3"
   ]
  },
  {
   "cell_type": "code",
   "execution_count": 1,
   "metadata": {
    "editable": true
   },
   "outputs": [],
   "source": [
    "import boto3\n",
    "import pandas as pd\n",
    "import configparser\n",
    "import s3fs"
   ]
  },
  {
   "cell_type": "code",
   "execution_count": 4,
   "metadata": {
    "editable": true
   },
   "outputs": [],
   "source": [
    "config = configparser.ConfigParser()\n",
    "config.read_file(open('dwh.cfg'))\n",
    "\n",
    "KEY = config.get('AWS','KEY')\n",
    "SECRET = config.get('AWS','SECRET')\n",
    "\n",
    "s3 = s3fs.S3FileSystem(key=KEY, secret = SECRET)"
   ]
  },
  {
   "cell_type": "code",
   "execution_count": 7,
   "metadata": {
    "editable": true
   },
   "outputs": [
    {
     "data": {
      "text/plain": [
       "['udacity-dend/log_data/2018/11/2018-11-01-events.json',\n",
       " 'udacity-dend/log_data/2018/11/2018-11-02-events.json',\n",
       " 'udacity-dend/log_data/2018/11/2018-11-03-events.json',\n",
       " 'udacity-dend/log_data/2018/11/2018-11-04-events.json',\n",
       " 'udacity-dend/log_data/2018/11/2018-11-05-events.json']"
      ]
     },
     "execution_count": 7,
     "metadata": {},
     "output_type": "execute_result"
    }
   ],
   "source": [
    "s3.ls('s3a://udacity-dend/log_data/2018/11/')[0:5]"
   ]
  },
  {
   "cell_type": "code",
   "execution_count": 12,
   "metadata": {
    "editable": true
   },
   "outputs": [
    {
     "data": {
      "text/html": [
       "<div>\n",
       "<style scoped>\n",
       "    .dataframe tbody tr th:only-of-type {\n",
       "        vertical-align: middle;\n",
       "    }\n",
       "\n",
       "    .dataframe tbody tr th {\n",
       "        vertical-align: top;\n",
       "    }\n",
       "\n",
       "    .dataframe thead th {\n",
       "        text-align: right;\n",
       "    }\n",
       "</style>\n",
       "<table border=\"1\" class=\"dataframe\">\n",
       "  <thead>\n",
       "    <tr style=\"text-align: right;\">\n",
       "      <th></th>\n",
       "      <th>artist</th>\n",
       "      <th>auth</th>\n",
       "      <th>firstName</th>\n",
       "      <th>gender</th>\n",
       "      <th>itemInSession</th>\n",
       "      <th>lastName</th>\n",
       "      <th>length</th>\n",
       "      <th>level</th>\n",
       "      <th>location</th>\n",
       "      <th>method</th>\n",
       "      <th>page</th>\n",
       "      <th>registration</th>\n",
       "      <th>sessionId</th>\n",
       "      <th>song</th>\n",
       "      <th>status</th>\n",
       "      <th>ts</th>\n",
       "      <th>userAgent</th>\n",
       "      <th>userId</th>\n",
       "    </tr>\n",
       "  </thead>\n",
       "  <tbody>\n",
       "    <tr>\n",
       "      <th>0</th>\n",
       "      <td>Mudhoney</td>\n",
       "      <td>Logged In</td>\n",
       "      <td>Aleena</td>\n",
       "      <td>F</td>\n",
       "      <td>10</td>\n",
       "      <td>Kirby</td>\n",
       "      <td>231.57506</td>\n",
       "      <td>paid</td>\n",
       "      <td>Waterloo-Cedar Falls, IA</td>\n",
       "      <td>PUT</td>\n",
       "      <td>NextSong</td>\n",
       "      <td>1.541023e+12</td>\n",
       "      <td>637</td>\n",
       "      <td>Get Into Yours</td>\n",
       "      <td>200</td>\n",
       "      <td>1542326457796</td>\n",
       "      <td>Mozilla/5.0 (Macintosh; Intel Mac OS X 10.9; r...</td>\n",
       "      <td>44</td>\n",
       "    </tr>\n",
       "    <tr>\n",
       "      <th>1</th>\n",
       "      <td>Carpenters</td>\n",
       "      <td>Logged In</td>\n",
       "      <td>Aleena</td>\n",
       "      <td>F</td>\n",
       "      <td>11</td>\n",
       "      <td>Kirby</td>\n",
       "      <td>238.39302</td>\n",
       "      <td>paid</td>\n",
       "      <td>Waterloo-Cedar Falls, IA</td>\n",
       "      <td>PUT</td>\n",
       "      <td>NextSong</td>\n",
       "      <td>1.541023e+12</td>\n",
       "      <td>637</td>\n",
       "      <td>Yesterday Once More</td>\n",
       "      <td>200</td>\n",
       "      <td>1542326688796</td>\n",
       "      <td>Mozilla/5.0 (Macintosh; Intel Mac OS X 10.9; r...</td>\n",
       "      <td>44</td>\n",
       "    </tr>\n",
       "    <tr>\n",
       "      <th>2</th>\n",
       "      <td>None</td>\n",
       "      <td>Logged In</td>\n",
       "      <td>Aleena</td>\n",
       "      <td>F</td>\n",
       "      <td>12</td>\n",
       "      <td>Kirby</td>\n",
       "      <td>NaN</td>\n",
       "      <td>paid</td>\n",
       "      <td>Waterloo-Cedar Falls, IA</td>\n",
       "      <td>GET</td>\n",
       "      <td>Home</td>\n",
       "      <td>1.541023e+12</td>\n",
       "      <td>637</td>\n",
       "      <td>None</td>\n",
       "      <td>200</td>\n",
       "      <td>1542326691796</td>\n",
       "      <td>Mozilla/5.0 (Macintosh; Intel Mac OS X 10.9; r...</td>\n",
       "      <td>44</td>\n",
       "    </tr>\n",
       "  </tbody>\n",
       "</table>\n",
       "</div>"
      ],
      "text/plain": [
       "       artist       auth firstName gender  itemInSession lastName     length  \\\n",
       "0    Mudhoney  Logged In    Aleena      F             10    Kirby  231.57506   \n",
       "1  Carpenters  Logged In    Aleena      F             11    Kirby  238.39302   \n",
       "2        None  Logged In    Aleena      F             12    Kirby        NaN   \n",
       "\n",
       "  level                  location method      page  registration  sessionId  \\\n",
       "0  paid  Waterloo-Cedar Falls, IA    PUT  NextSong  1.541023e+12        637   \n",
       "1  paid  Waterloo-Cedar Falls, IA    PUT  NextSong  1.541023e+12        637   \n",
       "2  paid  Waterloo-Cedar Falls, IA    GET      Home  1.541023e+12        637   \n",
       "\n",
       "                  song  status             ts  \\\n",
       "0       Get Into Yours     200  1542326457796   \n",
       "1  Yesterday Once More     200  1542326688796   \n",
       "2                 None     200  1542326691796   \n",
       "\n",
       "                                           userAgent userId  \n",
       "0  Mozilla/5.0 (Macintosh; Intel Mac OS X 10.9; r...     44  \n",
       "1  Mozilla/5.0 (Macintosh; Intel Mac OS X 10.9; r...     44  \n",
       "2  Mozilla/5.0 (Macintosh; Intel Mac OS X 10.9; r...     44  "
      ]
     },
     "execution_count": 12,
     "metadata": {},
     "output_type": "execute_result"
    }
   ],
   "source": [
    "data = pd.read_json('s3a://udacity-dend/log-data/2018/11/2018-11-16-events.json', lines=True)\n",
    "data.head(3)"
   ]
  },
  {
   "cell_type": "code",
   "execution_count": 11,
   "metadata": {
    "editable": true
   },
   "outputs": [
    {
     "data": {
      "text/plain": [
       "['udacity-dend/song_data/A/A/A/TRAAAAK128F9318786.json',\n",
       " 'udacity-dend/song_data/A/A/A/TRAAAAV128F421A322.json',\n",
       " 'udacity-dend/song_data/A/A/A/TRAAABD128F429CF47.json',\n",
       " 'udacity-dend/song_data/A/A/A/TRAAACN128F9355673.json',\n",
       " 'udacity-dend/song_data/A/A/A/TRAAAEA128F935A30D.json']"
      ]
     },
     "execution_count": 11,
     "metadata": {},
     "output_type": "execute_result"
    }
   ],
   "source": [
    "s3.ls('s3a://udacity-dend/song_data/A/A/A/')[0:5]"
   ]
  },
  {
   "cell_type": "code",
   "execution_count": 10,
   "metadata": {
    "editable": true
   },
   "outputs": [
    {
     "data": {
      "text/html": [
       "<div>\n",
       "<style scoped>\n",
       "    .dataframe tbody tr th:only-of-type {\n",
       "        vertical-align: middle;\n",
       "    }\n",
       "\n",
       "    .dataframe tbody tr th {\n",
       "        vertical-align: top;\n",
       "    }\n",
       "\n",
       "    .dataframe thead th {\n",
       "        text-align: right;\n",
       "    }\n",
       "</style>\n",
       "<table border=\"1\" class=\"dataframe\">\n",
       "  <thead>\n",
       "    <tr style=\"text-align: right;\">\n",
       "      <th></th>\n",
       "      <th>artist_id</th>\n",
       "      <th>artist_latitude</th>\n",
       "      <th>artist_location</th>\n",
       "      <th>artist_longitude</th>\n",
       "      <th>artist_name</th>\n",
       "      <th>duration</th>\n",
       "      <th>num_songs</th>\n",
       "      <th>song_id</th>\n",
       "      <th>title</th>\n",
       "      <th>year</th>\n",
       "    </tr>\n",
       "  </thead>\n",
       "  <tbody>\n",
       "    <tr>\n",
       "      <th>0</th>\n",
       "      <td>ARJNIUY12298900C91</td>\n",
       "      <td>NaN</td>\n",
       "      <td></td>\n",
       "      <td>NaN</td>\n",
       "      <td>Adelitas Way</td>\n",
       "      <td>213.9424</td>\n",
       "      <td>1</td>\n",
       "      <td>SOBLFFE12AF72AA5BA</td>\n",
       "      <td>Scream</td>\n",
       "      <td>2009</td>\n",
       "    </tr>\n",
       "  </tbody>\n",
       "</table>\n",
       "</div>"
      ],
      "text/plain": [
       "            artist_id  artist_latitude artist_location  artist_longitude  \\\n",
       "0  ARJNIUY12298900C91              NaN                               NaN   \n",
       "\n",
       "    artist_name  duration  num_songs             song_id   title  year  \n",
       "0  Adelitas Way  213.9424          1  SOBLFFE12AF72AA5BA  Scream  2009  "
      ]
     },
     "execution_count": 10,
     "metadata": {},
     "output_type": "execute_result"
    }
   ],
   "source": [
    "songdata = pd.read_json('s3a://udacity-dend/song_data/A/A/A/TRAAAAK128F9318786.json', lines=True)\n",
    "songdata"
   ]
  }
 ],
 "metadata": {
  "kernelspec": {
   "display_name": "Python 3",
   "language": "python",
   "name": "python3"
  },
  "language_info": {
   "codemirror_mode": {
    "name": "ipython",
    "version": 3
   },
   "file_extension": ".py",
   "mimetype": "text/x-python",
   "name": "python",
   "nbconvert_exporter": "python",
   "pygments_lexer": "ipython3",
   "version": "3.6.3"
  }
 },
 "nbformat": 4,
 "nbformat_minor": 4
}
